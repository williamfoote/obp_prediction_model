{
 "cells": [
  {
   "cell_type": "markdown",
   "metadata": {},
   "source": [
    "# Question 1 - Two Types of Pitchers\n",
    "\n",
    "Suppose you live in a universe where there are only two types of pitchers: Category A pitchers who strike out 30% of batters faced at the major league level, and Category B pitchers who strike out 20% of batters faced at the major league level. 90% of pitchers fall into Category B, but we don't know who they are before they play in the majors.\n",
    "\n",
    "You observe Pitcher X facing three batters in the majors, and he strikes out all three.\n",
    "\n",
    "Rounded to the nearest percentage point, what is the probability that Pitcher X's true talent is a 30% strikeout rate?\n"
   ]
  },
  {
   "cell_type": "markdown",
   "metadata": {},
   "source": [
    "We can use Bayes Theorem to answer this question.\n",
    "\n",
    "Bayes theorem states that P(A|B) = [P(B|A) * P(A)] / P(B)\n",
    "\n",
    "We have P(strikeout|Category A pitcher) = .3, P(strikeout|Category B pitcher) = .2, P(category A pitcher) = .1, P(category B pitcher) = .9.\n",
    "\n",
    "We are tasked with finding P(Category A pitcher|3 strikeouts in 3 attempts).\n",
    "\n",
    "P(X strikeouts|A) = P(strikeout|A)^X, so P(3 strikeouts|A) = P(strikeout|A)^3 -- P(strikeout|A) union P(strikeout|A) union P(strikeout|A). Since we already have P(strikeout|A) as .3, P(3 strikeouts|A) = .3^3 = .027.\n",
    "\n",
    "P(A|3 strikeouts) = (P(3 strikeouts|A) * P(A)) / P(3 strikeouts).\n",
    "\n",
    "We can calculate P(strikeout), tbe marginal probability, based on the given information as well. This is asking how much of the likelihood of a strikeout is contributed by Category A pitchers and Category B pitchers. Since a pitcher is much more likely to be from Category B than Category A, this likelihood formula will be weighted towards Category B significantly more.\n",
    "\n",
    "The formula for marginal probability here would then be P(strikeout) = P(strikeout|A) * P(A) + P(strikeout|B) * P(B), to weight the strikeouts given category by how prevalent the categories are.\n",
    "\n",
    "So we have P(strikeout) = .3 * .1 + .2 * .9 = .03 + .18 = .21.\n",
    "\n",
    "But, for three strikeouts, we have to consider the independence of the three samples and multiply these probabilities together.\n",
    "\n",
    "The equation would look like P(3 strikeouts) = P(3K|A) * P(A) + P(3K|B). We calculated P(3K|A) to be .09, and likewise, P(3K|B) would be P(K|B)^3 = .2^3 = .008. So P(3K) = .027 * .1 + .008 * .9 = .0027 + .0072 = .0099.\n",
    "\n",
    "Plug this in to the overall formula of P(A|3K), and we get (.027 * .1) / (.0099) = .0027 / .0099."
   ]
  },
  {
   "cell_type": "code",
   "execution_count": 1,
   "metadata": {},
   "outputs": [
    {
     "data": {
      "text/plain": [
       "0.2727272727272727"
      ]
     },
     "execution_count": 1,
     "metadata": {},
     "output_type": "execute_result"
    }
   ],
   "source": [
    "P_A_given_3k = .0027 / .0099\n",
    "P_A_given_3k"
   ]
  },
  {
   "cell_type": "markdown",
   "metadata": {},
   "source": [
    "**There is about a 27% chance that Pitcher X is truly from category A and has a strikeout rate of 30%.**"
   ]
  },
  {
   "cell_type": "markdown",
   "metadata": {},
   "source": [
    "# Question 2 - Random Teams, Expected Wins\n",
    "\n",
    "Imagine a baseball league where all players in baseball choose their teams randomly every offseason for the coming year. In this league, Team X and Team Y face each other 20 times each year. In 2022, Team X beat Team Y all 20 times. In 2023, a well-calibrated set of player projections suggests that Team Y will beat Team X 60% of the time, based on the players on each team.\n",
    "How many games do you expect Team X to win vs. Team Y in 2023?\n",
    "\n",
    "**Answer**: Since teams are randomly assigned each season, one team's previous season success is likely uncorrelated with next season success. Thus, I would defer to the projection system to find the expected value of wins. Since P(Y beats X) = .6, P(X beats Y) should be the compliment, 1-.6 = .4. .4 * 20 games = 8 games that we'd expect Team X to win vs team Y.\n"
   ]
  },
  {
   "cell_type": "markdown",
   "metadata": {},
   "source": [
    "# Question 3 - Likelihood of Events\n",
    "\n",
    "Rank the following events from most to least likely.\n",
    "- Flipping a fair coin four times and getting all heads\n",
    "- A team with a true talent win pct of .400 beating a team with a true talent win pct of\n",
    ".500\n",
    "- Blowing a 3-1 lead in a best-of-seven series to an evenly matched opponent\n",
    "- A player with a projected .400 On Base Percentage making an out in an important situation\n"
   ]
  },
  {
   "cell_type": "markdown",
   "metadata": {},
   "source": [
    "**Answer**: Flip a fair coin four times is .5^4.\n",
    "\n",
    "P(team A beats team B) = P(A wins) / ((P A wins) + P(B wins)) = .4 / (.4 + .5). This is because we need P(A wins) + P(B wins) to equal 1.\n",
    "\n",
    "P(blowing 3-1 lead to even opponent) = P(3 straight losses) = .5^3\n",
    "\n",
    "P(player with .400 OBP getting out) is about 1-.4 = .6."
   ]
  },
  {
   "cell_type": "code",
   "execution_count": 20,
   "metadata": {},
   "outputs": [
    {
     "data": {
      "text/plain": [
       "{'a': 0.0625, 'b': 0.4444444444444445, 'c': 0.125, 'd': 0.6}"
      ]
     },
     "execution_count": 20,
     "metadata": {},
     "output_type": "execute_result"
    }
   ],
   "source": [
    "P_a = .5**4\n",
    "P_b = .4 / (.4 + .5)\n",
    "P_c = .5**3 \n",
    "P_d = 1 - .4\n",
    "\n",
    "odds = {'a':P_a,\n",
    "        \"b\":P_b,\n",
    "        \"c\":P_c,\n",
    "        \"d\":P_d}\n",
    "\n",
    "odds"
   ]
  },
  {
   "cell_type": "markdown",
   "metadata": {},
   "source": [
    "The rank is D, B, C, A from most likely to least likely."
   ]
  },
  {
   "cell_type": "markdown",
   "metadata": {},
   "source": [
    "# Question 4 - Middle Finger Spicy Food\n",
    "\n",
    "Assume that spicy food tolerance and middle finger length are uncorrelated and normally distributed in the human population. Additionally, assume that baseball teams strongly prefer players with more spicy food tolerance and longer middle fingers. What would you expect the relationship to be between spicy food tolerance and middle finger length in the major league population?\n",
    "Please choose from the following options: Uncorrelated, Positively correlated,\n",
    "Negatively correlated, Not enough information\n",
    "Explain your thinking in no more than two sentences:\n",
    "\n"
   ]
  },
  {
   "cell_type": "markdown",
   "metadata": {},
   "source": [
    "**Answer**: They would be positively correlated because the baseball teams are selecting for these features, i.e. selection bias. People with both spicy food tolerance and longer middle fingers will be overrepresented in this selected sample, while players with only one of these traits or none of spicy food tolerance and long middle fingers, will be underrepresented."
   ]
  },
  {
   "cell_type": "markdown",
   "metadata": {},
   "source": [
    "# Question 5 - One-Hundred Out Innings\n",
    "\n",
    "Imagine that baseball altered its rules such that there were 100 outs per inning. In this form of baseball, the lineup is still 9 batters long, but if a batter's spot in the lineup comes up while he is still on base, the offensive team can just skip to the next available batter without penalty.\n",
    "How would you expect the value of baserunning would change relative to the value of hitting?\n",
    "Explain your thinking in one sentence.\n",
    "\n",
    "**Answer**: Aggressive baserunning becomes less important as you don't need to steal or get extra bases because there is less scarcity of outs.\n"
   ]
  },
  {
   "cell_type": "markdown",
   "metadata": {},
   "source": [
    "# Question 6 - MVP Incentive Buyout\n",
    "\n",
    "Consider an internal projection system that rates Player M the best player in baseball. He has incentives in his contract to award him $1M if he wins the MVP.\n",
    "How much would you be willing to pay him before the season to remove that clause from his contract?\n",
    "Explain your thinking in one sentence.\n",
    "\n",
    "**Answer**: You should be willing to pay him the expected value of his MVP (or less) which is the probability the projection system predicts he'll win MVP times 1 million dollars, because any value less than this would be less than what you expect he will earn with the incentive in."
   ]
  },
  {
   "cell_type": "markdown",
   "metadata": {},
   "source": [
    "# Question 7 - Lotto\n",
    "\n",
    "**Answer**: Separate file - *lotto.pdf*."
   ]
  },
  {
   "cell_type": "markdown",
   "metadata": {},
   "source": [
    "# Question 8 - NLCS Sweep\n",
    "\n",
    "Historically, sweeping the NLCS has been quite difficult; since switching to a 7 game format, only 4 of 37 NLCS have ended in a sweep. Imagine that the Phillies take a 3-0 lead in the NLCS.\n",
    "What is the approximate probability, rounded to the nearest 10%, that the Phillies sweep the series?\n",
    "Explain your thinking in one sentence\n",
    "\n",
    "**Answer**: Since 3 games have already been won, 4/37 sweeps is a bit of a distractor as that looks at all series starting from 0 wins a piece, whereas they only need one win which is probably around 50% chance of winning game 4 and getting the sweep."
   ]
  },
  {
   "cell_type": "markdown",
   "metadata": {},
   "source": [
    "# Question 9 - Stuff+ Improvements\n",
    "\n",
    "Read this primer on Stuff+. What are some other features you might want to add to a Stuff+ model in order to make it more predictive of future performance? Limit your answer to three sentences.\n",
    "\n",
    "**Answer**: It could be interesting to look at the  the variance of release point across pitches, because a pitcher with lower variance (i.e. their pitches come from the same slot regardless of its a fastball or secondary pitch) could be a better pitcher.\n",
    "\n",
    "It could also be beneficial to look at differential of spin axes for different pitches compared to the average for that pitcher and their given pitches because if the axis is changing a lot, this introduces variation that could mean their pitches are less effective.\n",
    "\n",
    "Finally, it could be interesting to look at more nuanced ways to classify pitches by looking at an interaction with type of pitch, release point, speed, and spin rate, in case a pitcher has a type of pitch they deliver differently (see: Yu Darvish and his curveballs)"
   ]
  },
  {
   "cell_type": "markdown",
   "metadata": {},
   "source": [
    "# Question 10 - Beyond LA and EV?\n",
    "\n",
    "Imagine there are two batters (Batter A and Batter B) that both happen to hit the exact same number of fly balls at the exact same combinations of Exit Velocity (EV) and Launch Angle (LA) during the 2022 season. In other words, every hypothetical fly ball hit by both batters was exactly the same according to EV and LA in 2022.\n",
    "However, Batter A happened to finish the season with 30 HRs, while Batter B finished the season with only 20 HRs. What factors could potentially explain this discrepancy in overall player production? Please list your top 3 reasons.\n",
    "\n",
    "**Answer**: Some factors could include park factor (maybe Batter A had more games in home-run friendly parks), direction of hit (if Batter A pulls the ball more than Batter B who goes to center more, Batter A's hit balls have to travel less distance to be a home run), and since it was 2022, maybe Batter A got lucky and got the [sample of balls](https://www.si.com/mlb/yankees/news/mlb-multiple-baseballs-2022-season-impact-new-york-yankees-aaron-judge-home-run-chase) that were more prone to being hit as homers than Batter B got. \n"
   ]
  },
  {
   "cell_type": "markdown",
   "metadata": {},
   "source": [
    "# Question 11 - OBP Predictive Modeling"
   ]
  },
  {
   "cell_type": "markdown",
   "metadata": {},
   "source": [
    "**Answer**: Separate file - *Predicting On Base Percentage.pdf*"
   ]
  },
  {
   "cell_type": "markdown",
   "metadata": {},
   "source": []
  }
 ],
 "metadata": {
  "kernelspec": {
   "display_name": "Python 3",
   "language": "python",
   "name": "python3"
  },
  "language_info": {
   "codemirror_mode": {
    "name": "ipython",
    "version": 3
   },
   "file_extension": ".py",
   "mimetype": "text/x-python",
   "name": "python",
   "nbconvert_exporter": "python",
   "pygments_lexer": "ipython3",
   "version": "3.10.9"
  }
 },
 "nbformat": 4,
 "nbformat_minor": 2
}
